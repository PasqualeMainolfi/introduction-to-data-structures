{
 "cells": [
  {
   "cell_type": "markdown",
   "id": "92379123-62fd-40de-99ea-7c99a20ca01c",
   "metadata": {},
   "source": [
    "# Introduzione alle principali Strutture Dati\n",
    "source: *M. T. Goodrich, R. Tamassa, M. H. Goldwasser, <Data Structures & Algorithms in Python>* "
   ]
  },
  {
   "cell_type": "markdown",
   "id": "83e34738-e764-4583-bdf5-7a4c077d3457",
   "metadata": {},
   "source": [
    "### Stack"
   ]
  },
  {
   "cell_type": "markdown",
   "id": "518cb090-38a6-4c25-8143-8a1ed8b9730f",
   "metadata": {},
   "source": [
    "una *pila* (stack) è una struttura dati di tipo LIFO (*last-in-first-out*). In altre parole, un utente può inserire dati in una pila in qualsiasi momento, ma può accedere o rimuovere l'elemento inserito più di recente (*top of the stack*).\n",
    "<br><br>\n",
    "**METODI**:<br>\n",
    "*push*: aggiungi un elemento in cima<br>\n",
    "*pop*: rimuovi e ritorna l'elemento in cima<br>\n",
    "*top*: ritorna l'elemento in cima<br>\n",
    "*is_empty*: ritorna True se la pila è vuota, False se non lo è <br>\n",
    "*length*: ritorna il numero di elementi presenti <br>\n",
    "*clear*: elimina tutti gli elementi presenti<br><br>\n",
    "\n",
    "**RUNNUNING TIME**:<br>\n",
    "*push* $\\rightarrow O(1)$<br>\n",
    "*pop* $\\rightarrow O(1)$<br>\n",
    "*top* $\\rightarrow O(1)$<br>\n",
    "*is_empty* $\\rightarrow O(1)$<br>\n",
    "*length* $\\rightarrow O(1)$<br>"
   ]
  },
  {
   "cell_type": "code",
   "execution_count": 1,
   "id": "6dc8c10b-1f59-4f37-803f-dd4f0519a4e7",
   "metadata": {},
   "outputs": [],
   "source": [
    "class Pila():\n",
    "    def __init__(self):\n",
    "        self._pila = []\n",
    "    \n",
    "    def push(self, e):\n",
    "        self._pila.append(e)\n",
    "    \n",
    "    def pop(self):\n",
    "        if(self.is_empty()):\n",
    "            raise Exception(\"Errore, la pila è vuota!\")\n",
    "        el = self._pila.pop()\n",
    "        return(el)\n",
    "    \n",
    "    def top(self):\n",
    "        if(self.is_empty()):\n",
    "            raise Exception(\"La pila è vuota!\")\n",
    "        return(self._pila[-1])\n",
    "    \n",
    "    def length(self):\n",
    "        return(len(self._pila))\n",
    "    \n",
    "    def clear(self):\n",
    "        self._pila = []\n",
    "    \n",
    "    def is_empty(self):\n",
    "        empty = len(self._pila) == 0\n",
    "        return(empty)"
   ]
  },
  {
   "cell_type": "code",
   "execution_count": 2,
   "id": "8017425f-380c-4f2b-af80-0255461c92e6",
   "metadata": {},
   "outputs": [
    {
     "name": "stdout",
     "output_type": "stream",
     "text": [
      "5 20 2 False\n"
     ]
    }
   ],
   "source": [
    "p = Pila()\n",
    "p.push(10)\n",
    "p.push(20)\n",
    "p.push(5)\n",
    "popping = p.pop()\n",
    "top = p.top()\n",
    "length = p.length()\n",
    "empty = p.is_empty()\n",
    "\n",
    "print(popping, top, length, empty)"
   ]
  },
  {
   "cell_type": "markdown",
   "id": "06bc0c25-d121-4d4c-8ffd-24948e4ccd9d",
   "metadata": {},
   "source": [
    "#### Stack: Matching Delimiters in arithmetic expression"
   ]
  },
  {
   "cell_type": "code",
   "execution_count": 3,
   "id": "7d1cfc29-5818-4979-b722-69ce9ab41c4e",
   "metadata": {},
   "outputs": [],
   "source": [
    "def matching(e):\n",
    "    apri = [\"(\", \"[\", \"{\"]\n",
    "    chiudi = [\")\", \"]\", \"}\"]\n",
    "    \n",
    "    stack = Pila()\n",
    "    for par in e:\n",
    "        if(par in apri):\n",
    "            stack.push(par)\n",
    "        if(par in chiudi):\n",
    "            if(stack.is_empty()):\n",
    "                return(False)\n",
    "            if(chiudi.index(par) != apri.index(stack.pop())):\n",
    "                return(False)\n",
    "    return(stack.is_empty())"
   ]
  },
  {
   "cell_type": "code",
   "execution_count": 4,
   "id": "dfeee8eb-dbc8-48d3-b030-1f8be731e9a9",
   "metadata": {},
   "outputs": [
    {
     "name": "stdout",
     "output_type": "stream",
     "text": [
      "matching for expression 1: Correct\n",
      "matching for expression 2: Correct\n",
      "matching for expression 3: Incorrect\n",
      "matching for expression 4: Incorrect\n"
     ]
    }
   ],
   "source": [
    "esp = [\"()(()){([()])}\", \"((()(()){([()])}))\", \")(()){([()])}\", \"({[])}\"]\n",
    "\n",
    "for i, expression in enumerate(esp):\n",
    "    m = matching(expression)\n",
    "    cor = \"Correct\" if(m) else \"Incorrect\"\n",
    "    print(f\"matching for expression {i + 1}: {cor}\")\n",
    "    "
   ]
  },
  {
   "cell_type": "markdown",
   "id": "ae5c2953-8ac7-4d9a-8368-b147d912a543",
   "metadata": {},
   "source": [
    "### Queue"
   ]
  },
  {
   "cell_type": "markdown",
   "id": "25ec5590-2aaf-413c-b08b-84621f92477d",
   "metadata": {},
   "source": [
    "una *coda* (queue) è una struttura dati di tipo FIFO (*first-in-first-out*). È possibile inservi elementi in coda in qualsiasi momento. La rimozione, invece, avviene sempre in testa alla lista. Ciò implica l'implementazione di due puntatori, uno per la testa (*head*) e, uno per la coda (*tail*).\n",
    "<br><br>\n",
    "**METODI**:<br>\n",
    "*enqueue*: aggiungi un elemento alla lista<br>\n",
    "*dequeue*: rimuovi e ritorna il primo elemento dalla lista<br>\n",
    "*first*: ritorna l'elemento in testa alla lista<br>\n",
    "*is_empty*: ritorna True se la lista è vuota, False se non lo è<br>\n",
    "*length*: ritorna il numero di elementi presenti nella lista<br><br>\n",
    "\n",
    "**RUNNUNING TIME**:<br>\n",
    "*enqueue* $\\rightarrow O(1)$<br>\n",
    "*dequeue* $\\rightarrow O(1)$<br>\n",
    "*first* $\\rightarrow O(1)$<br>\n",
    "*is_empty* $\\rightarrow O(1)$<br>\n",
    "*length* $\\rightarrow O(1)$<br>"
   ]
  },
  {
   "cell_type": "code",
   "execution_count": 5,
   "id": "79f844d0-2f2d-4971-bed1-bbc7884e3895",
   "metadata": {},
   "outputs": [],
   "source": [
    "class Queue():\n",
    "    def __init__(self):\n",
    "        self._coda = [None] * 5\n",
    "        self._size = 0\n",
    "        self._tail = 0\n",
    "        self._head = 0\n",
    "    \n",
    "    def enqueue(self, element):\n",
    "        if(self._size == len(self._coda)):\n",
    "            self._resize(2 * len(self._coda))\n",
    "        self._coda[self._tail] = element\n",
    "        self._tail = (self._tail + 1)%len(self._coda)\n",
    "        self._size += 1\n",
    "    \n",
    "    def dequeue(self):\n",
    "        ans = self._coda[self._head]\n",
    "        self._coda[self._head] = None\n",
    "        self._head = (self._head + 1)%len(self._coda)\n",
    "        self._size -= 1\n",
    "        return(ans)\n",
    "        \n",
    "    def _resize(self, size):\n",
    "        m = self._coda\n",
    "        self._coda = [None] * size\n",
    "        index = self._head\n",
    "        for i in range(self._size):\n",
    "            self._coda[i] = m[index] # se [5(tail), 2(head), 3, 4], allora [2(head), 3, 4, 5(tail), None, None, None, None]\n",
    "            index = (index + 1)%len(m)\n",
    "        self._head = 0\n",
    "        self._tail = len(m)\n",
    "        \n",
    "    def length(self):\n",
    "        return(self._size)\n",
    "    \n",
    "    def is_empty(self):\n",
    "        return((self._size == 0))\n",
    "    \n",
    "    def first(self):\n",
    "        if(not self.is_empty):\n",
    "            raise Exception(\"La coda è vuota!\")\n",
    "        return(self._coda[self._head])"
   ]
  },
  {
   "cell_type": "code",
   "execution_count": 6,
   "id": "be5c85f2-5d0d-4430-8413-2012dc41480e",
   "metadata": {},
   "outputs": [
    {
     "name": "stdout",
     "output_type": "stream",
     "text": [
      "[10, 30, 5, None, None]\n",
      "[30, 5, 50, 25, 6, 12.5, None, None, None, None]\n",
      "primo elemento:  30 \n",
      "lunghezza queue:  6\n"
     ]
    }
   ],
   "source": [
    "q = Queue()\n",
    "q.enqueue(10)\n",
    "q.enqueue(30)\n",
    "q.enqueue(5)\n",
    "print(q._coda)\n",
    "q.dequeue()\n",
    "q.enqueue(50)\n",
    "q.enqueue(25)\n",
    "q.enqueue(6)\n",
    "q.enqueue(12.5) # resize queue!\n",
    "print(q._coda)\n",
    "print(\"primo elemento: \", q.first(), \"\\nlunghezza queue: \", q.length())"
   ]
  },
  {
   "cell_type": "markdown",
   "id": "92cce840-1448-4342-a360-095900c9d70d",
   "metadata": {},
   "source": [
    "### Hash Table"
   ]
  },
  {
   "cell_type": "markdown",
   "id": "724c0135-22b7-4013-b394-5df088bfbb2e",
   "metadata": {},
   "source": [
    "una *tabella hash* è una struttura dati che permette di conservare dati in maniera associativa (*chiave -> valore*). Usa una *funzione crittografica di hash* $h(k)$ per mappare le chiavi agli indici corrispondenti di un array. Tale funzione consiste in due blocchi: il primo *hash code* in cui si associa la chiave ad un intero; il secondo *compression* in cui si comprime l'hash code in un intero compreso tra $[0, N - 1]$, con $N =$ lunghezza tabella.<br><br>\n",
    "\n",
    "METODI:<br>\n",
    "*getitem*: ritorna il valore associato ad una specifica chiave<br>\n",
    "*setitem*: associa un valore ad una specifica chiave<br>\n",
    "*delitem*: elimina una specifica chiave<br>\n",
    "*length*: lunghezza della tabella hash<br><br>\n",
    "\n",
    "RUNNING TIME:<br>\n",
    "*getitem* $\\rightarrow O(1) - O(n)$ nel peggiore dei casi<br>\n",
    "*setitem*: $\\rightarrow O(1) - O(n)$ nel peggiore dei casi<br>\n",
    "*delitem*: $\\rightarrow O(1) - O(n)$ nel peggiore dei casi<br>\n",
    "*length*: $\\rightarrow O(1)$<br>"
   ]
  },
  {
   "cell_type": "code",
   "execution_count": 7,
   "id": "c210147a-3c7c-4740-953e-a6b640fc192a",
   "metadata": {},
   "outputs": [],
   "source": [
    "class HashTable():\n",
    "    def __init__(self):\n",
    "        self._size = 10\n",
    "        self._hashmap = [[] for _ in range(self._size)]\n",
    "        self._length = 0\n",
    "    \n",
    "    def _hash_func(self, key):\n",
    "        hashed = hash(key)%self._size\n",
    "        return(hashed)\n",
    "    \n",
    "    def _set_item(self, key, value):\n",
    "        kindex = self._hash_func(key)\n",
    "        key_exsists = False\n",
    "        slot = self._hashmap[kindex]\n",
    "        for i, key_value in enumerate(slot):\n",
    "            k, v = key_value\n",
    "            if(k == key):\n",
    "                key_exsists = True\n",
    "                break\n",
    "        \n",
    "        if(key_exsists):\n",
    "            slot[i] = ((key, value))\n",
    "        else:\n",
    "            slot.append((key, value))\n",
    "            self._length += 1\n",
    "    \n",
    "    def _get_item(self, key):\n",
    "        kindex = self._hash_func(key)\n",
    "        slot = self._hashmap[kindex]\n",
    "        for kv in slot:\n",
    "            k, v = kv\n",
    "            if(k == key):\n",
    "                return(v)\n",
    "            else:\n",
    "                raise KeyError(\"La chiave non esiste!\")\n",
    "    \n",
    "    def _del_item(self, key):\n",
    "        kindex = self._hash_func(key)\n",
    "        slot = self._hashmap[kindex]\n",
    "        key_exsists = False\n",
    "        for i, kv in enumerate(slot):\n",
    "            k, v = kv\n",
    "            if(k == key):\n",
    "                key_exsists = True\n",
    "                break\n",
    "        \n",
    "        if(key_exsists):\n",
    "            del slot[i]\n",
    "            self._length -= 1\n",
    "        else:\n",
    "            raise KeyError(\"La chiave non esiste!\")\n",
    "        \n",
    "    def __setitem__(self, key, value):\n",
    "        return(self._set_item(key, value))\n",
    "    \n",
    "    def __getitem__(self, key):\n",
    "        return(self._get_item(key))\n",
    "    \n",
    "    def __delitem__(self, key):\n",
    "        return(self._del_item(key))\n",
    "    \n",
    "    def __len__(self):\n",
    "        return(self._length)\n",
    "    \n",
    "    def __iter__(self):\n",
    "        for slot in self._hashmap:\n",
    "            if(slot):\n",
    "                for key in slot:\n",
    "                    yield key"
   ]
  },
  {
   "cell_type": "code",
   "execution_count": 8,
   "id": "1f8c5aa6-f283-4a7b-bd64-faa2db9c3645",
   "metadata": {},
   "outputs": [
    {
     "name": "stdout",
     "output_type": "stream",
     "text": [
      "bau\n",
      "('cane', 'bau')\n",
      "('gatto', 'miao')\n"
     ]
    }
   ],
   "source": [
    "h = HashTable()\n",
    "h[\"cane\"] = \"bau\"\n",
    "h[\"gatto\"] = \"miao\"\n",
    "h[\"serpente\"] = \"sssss\"\n",
    "del h[\"serpente\"]\n",
    "print(h[\"cane\"])\n",
    "iterator = iter(h)\n",
    "print(next(iterator))\n",
    "print(next(iterator))"
   ]
  },
  {
   "cell_type": "markdown",
   "id": "862323f3-57ae-4825-b6d1-e4fbac88ac37",
   "metadata": {},
   "source": [
    "### Linked List"
   ]
  },
  {
   "cell_type": "markdown",
   "id": "f5b78aa7-2c9e-4d07-a2cc-f1e15a248e94",
   "metadata": {},
   "source": [
    "#### Singly Linked List\n",
    "una *singly linked list* è un insieme di nodi collegati tra loro in modo da formare una sequenza lineare. Ogni nodo porta con se:<br>\n",
    "- il riferimento ad un oggetto che è parte della lista;\n",
    "- il riferimento al nodo successivo della lista.\n",
    "<br>\n",
    "Il primo e l'ultimo nodo sono, rispettivamente la testa *head* e la coda *tail* della lista. Si identifica la coda della lista come il nodo con riferimento nullo al successivo nodo.\n",
    "<br><br>\n",
    "**METODI**:<br>\n",
    "*append*: aggiungi un elemento in coda<br>\n",
    "*prepend*:  aggiungi un elemento in testa<br>\n",
    "*insert_after_node*: aggiungi un elemento tra due nodi<br>\n",
    "*delete*: rimuovi uno specifico nodo<br>\n",
    "*delete_at*: rimuovi un nodo ad una specifica posizione<br>\n",
    "*swap_nodes*: scambia la posizione di due specifici nodi<br>\n",
    "*reverse*: inverti l'ordine<br>\n",
    "*find_position*: ritorna la posizione di un certo elemento<br>\n",
    "*swap_nodes*: scambia la posizione di due specifici nodi<br>\n",
    "*is_empty*: ritorna True se la lista è vuota, False se non lo è <br>\n",
    "*length*: ritorna il numero di elementi presenti<br>"
   ]
  },
  {
   "cell_type": "code",
   "execution_count": 9,
   "id": "0564f979-9e96-46f8-8e93-28f978bb2450",
   "metadata": {},
   "outputs": [],
   "source": [
    "class Node():\n",
    "    def __init__(self, data):\n",
    "        self.data = data\n",
    "        self.next = None\n",
    "\n",
    "class LinkedList():\n",
    "    def __init__(self):\n",
    "        self.head = None\n",
    "        self._size = 0\n",
    "        \n",
    "    def print_linked_list(self):\n",
    "        current = self.head\n",
    "        s = \"\"\n",
    "        while current:\n",
    "            line = f\"[{current.data}] -> \"\n",
    "            s += line\n",
    "            current = current.next\n",
    "        print(s)\n",
    "    \n",
    "    \n",
    "    def append(self, data):\n",
    "        node = Node(data)\n",
    "        \n",
    "        if(self.is_empty()):\n",
    "            self.head = node\n",
    "        else:\n",
    "            last_node = self.head\n",
    "            while last_node.next is not None:\n",
    "                last_node = last_node.next\n",
    "\n",
    "            last_node.next = node\n",
    "        \n",
    "        self._size += 1\n",
    "        return\n",
    "    \n",
    "    def prepend(self, data):\n",
    "        node = Node(data)\n",
    "        \n",
    "        if(self.is_empty()):\n",
    "            self.head = node\n",
    "        else:\n",
    "            node.next = self.head\n",
    "            self.head = node\n",
    "        \n",
    "        self._size += 1\n",
    "        return\n",
    "    \n",
    "    \n",
    "    def insert_after_node(self, prev_node, data):\n",
    "        node = Node(data)\n",
    "        \n",
    "        current = self.head\n",
    "        while current:\n",
    "            if(current.data == prev_node):\n",
    "                node.next = current.next\n",
    "                current.next = node\n",
    "                self._size += 1\n",
    "                return\n",
    "            current = current.next\n",
    "        \n",
    "        raise Exception(\"Prevoius node is not in the list!\")\n",
    "    \n",
    "    def delete(self, key):\n",
    "        if(self.is_empty()):\n",
    "            raise Exception(\"List is empty!\")\n",
    "        \n",
    "        current = self.head\n",
    "        if(current and current.data == key):\n",
    "            self.head = current.next\n",
    "            current = None\n",
    "            self._size -= 1\n",
    "            return\n",
    "        \n",
    "        prev = None\n",
    "        while current:\n",
    "            if(current.data == key):\n",
    "                prev.next = current.next\n",
    "                current = None\n",
    "                self._size -= 1\n",
    "                return\n",
    "            \n",
    "            prev = current\n",
    "            current = current.next\n",
    "        \n",
    "        raise Exception(\"Key is not in the list!\")\n",
    "    \n",
    "    def delete_at(self, position):\n",
    "        \n",
    "        if(self.is_empty()):\n",
    "            raise Exception(\"List is empty!\")\n",
    "        if(position >= self._size):\n",
    "            raise Exception(\"Position is greater than length of a list\")\n",
    "        \n",
    "        current = self.head\n",
    "        if(position == 0):\n",
    "            self.head = current.next\n",
    "            current = None\n",
    "            self._size -= 1\n",
    "            return\n",
    "        \n",
    "        prev = current\n",
    "        current = current.next\n",
    "        p = 1\n",
    "        while current and p != position:\n",
    "            prev = current\n",
    "            current = current.next\n",
    "            p += 1\n",
    "        \n",
    "        prev.next = current.next\n",
    "        current = None\n",
    "        self._size -= 1\n",
    "        return\n",
    "    \n",
    "    def swap_nodes(self, key1, key2):\n",
    "        if(self.is_empty()):\n",
    "            raise Exception(\"List is empty!\")\n",
    "        \n",
    "        if(key1 == key2):\n",
    "            return\n",
    "        \n",
    "        p1, c1 = None, self.head\n",
    "        while c1 and c1.data != key1:\n",
    "            p1 = c1\n",
    "            c1 = c1.next\n",
    "        \n",
    "        p2, c2 = None, self.head\n",
    "        while c2 and c2.data != key2:\n",
    "            p2 = c2\n",
    "            c2 = c2.next\n",
    "        \n",
    "        if(not c1 or not c2):\n",
    "            return\n",
    "        \n",
    "        if(p1):\n",
    "            p1.next = c2\n",
    "        else:\n",
    "            self.head = c2\n",
    "        \n",
    "        if(p2):\n",
    "            p2.next = c1\n",
    "        else:\n",
    "            self.head = c1\n",
    "        \n",
    "        c1.next, c2.next = c2.next, c1.next\n",
    "    \n",
    "    def reverse_iterative(self):\n",
    "        if(self.is_empty()):\n",
    "            return\n",
    "        \n",
    "        prev = None\n",
    "        cur = self.head\n",
    "        while cur:\n",
    "            suc = cur.next\n",
    "            cur.next = prev\n",
    "            prev = cur\n",
    "            cur = suc\n",
    "        self.head = prev\n",
    "    \n",
    "    def reverse_recursive(self):\n",
    "        \n",
    "        def _reverse_recursive(prev, cur):\n",
    "            if(not cur):\n",
    "                return(prev)\n",
    "            \n",
    "            suc = cur.next\n",
    "            cur.next = prev\n",
    "            prev = cur\n",
    "            cur = suc\n",
    "            return(_reverse_recursive(prev, cur))\n",
    "        \n",
    "        self.head = _reverse_recursive(prev=None, cur=self.head)\n",
    "    \n",
    "    def remove_duplicates(self):\n",
    "        \n",
    "        duplicates = {}\n",
    "        \n",
    "        prev = None\n",
    "        cur = self.head\n",
    "        while cur:\n",
    "            if(cur.data in duplicates):\n",
    "                prev.next = cur.next\n",
    "                cur = None\n",
    "            else:\n",
    "                duplicates[cur.data] = 1\n",
    "                prev = cur\n",
    "            cur = prev.next\n",
    "        \n",
    "    def find_position(self, key):\n",
    "        if(self.is_empty()):\n",
    "            raise Exception(\"List is empty!\")\n",
    "            \n",
    "        cur = self.head\n",
    "        if(cur.data == key):\n",
    "            return(0)\n",
    "        \n",
    "        cur = cur.next\n",
    "        p = 1\n",
    "        while cur:\n",
    "            if(cur.data == key):\n",
    "                return(p)\n",
    "            p += 1\n",
    "            cur = cur.next\n",
    "        \n",
    "        raise Exception(\"Key is not in the list!\")\n",
    "       \n",
    "            \n",
    "    def is_empty(self):\n",
    "        cond = self.head is None\n",
    "        return(cond)\n",
    "    \n",
    "    def iterative_length(self):\n",
    "        if(self.is_empty()):\n",
    "            return(0)\n",
    "        \n",
    "        cur = self.head\n",
    "        count = 0\n",
    "        while cur:\n",
    "            cur = cur.next\n",
    "            count += 1\n",
    "        return(count)\n",
    "    \n",
    "    def recursive_length(self, node):\n",
    "        if(node is None):\n",
    "            return(0)\n",
    "        return(1 + self.recursive_length(node.next))\n",
    "    \n",
    "    def __len__(self):\n",
    "        return(self._size)"
   ]
  },
  {
   "cell_type": "code",
   "execution_count": 10,
   "id": "444dce17-9aec-4ffc-b27e-b40455a2d105",
   "metadata": {},
   "outputs": [
    {
     "name": "stdout",
     "output_type": "stream",
     "text": [
      "[1] -> [10] -> [30] -> [3.6] -> [50] -> \n",
      "[1] -> [30] -> [3.6] -> [50] -> \n",
      "False\n",
      "4\n",
      "7\n",
      "[1] -> [30] -> [3.6] -> [50] -> [16] -> [3] -> [5] -> \n",
      "[1] -> [30] -> [3.6] -> [50] -> [16] -> [3] -> \n",
      "6\n",
      "6\n",
      "6\n",
      "1\n",
      "[1] -> [16] -> [3.6] -> [50] -> [30] -> [3] -> \n",
      "[3] -> [30] -> [50] -> [3.6] -> [16] -> [1] -> \n",
      "[1] -> [16] -> [3.6] -> [50] -> [30] -> [3] -> \n",
      "[1] -> [16] -> [3.6] -> [50] -> [30] -> [3] -> [50] -> \n",
      "[1] -> [16] -> [3.6] -> [50] -> [30] -> [3] -> \n"
     ]
    }
   ],
   "source": [
    "ll = LinkedList()\n",
    "ll.append(10)\n",
    "ll.append(30)\n",
    "ll.append(50)\n",
    "ll.prepend(1)\n",
    "ll.insert_after_node(30, 3.6)\n",
    "ll.print_linked_list()\n",
    "ll.delete(10)\n",
    "ll.print_linked_list()\n",
    "print(ll.is_empty())\n",
    "print(len(ll))\n",
    "ll.append(16)\n",
    "ll.append(3)\n",
    "ll.append(5)\n",
    "print(len(ll))\n",
    "ll.print_linked_list()\n",
    "ll.delete_at(6)\n",
    "ll.print_linked_list()\n",
    "print(len(ll))\n",
    "iter_len = ll.iterative_length()\n",
    "print(iter_len)\n",
    "recu_len = ll.recursive_length(ll.head)\n",
    "print(iter_len)\n",
    "position = ll.find_position(30)\n",
    "print(position)\n",
    "ll.swap_nodes(30, 16)\n",
    "ll.print_linked_list()\n",
    "ll.reverse_iterative()\n",
    "ll.print_linked_list()\n",
    "ll.reverse_recursive()\n",
    "ll.print_linked_list()\n",
    "ll.append(50)\n",
    "ll.print_linked_list()\n",
    "ll.remove_duplicates()\n",
    "ll.print_linked_list()"
   ]
  },
  {
   "cell_type": "markdown",
   "id": "6b2b844f-1653-4bfb-b4e4-422ec7800b67",
   "metadata": {},
   "source": [
    "### Trees"
   ]
  },
  {
   "cell_type": "markdown",
   "id": "6d3e321a-b7be-4463-beb1-a7b1db6238dd",
   "metadata": {},
   "source": [
    "un *albero* (tree) è una struttura dati definita nonlineare, in riferimento alla organizzazione più ricca e complessa delle semplici relazioni tra oggetti in sequenza. Gli elementi che contiene sono organizzati gerarchicamente.<br>\n",
    "Ad eccezione del primo (*top element* o *root*), ogni elemento in un albero ha un *genitore* (parent) e zero o più elementi *figli* (children):<br>\n",
    "\n",
    "- se l'albero T è non vuoto, avrà un nodo speciale chiamato *radice* che non ha alcun *genitore*\n",
    "- ogni nodo $v$ dell'albero T diverso dalla radice avrà un *genitore* unico $w$; ogni nodo con genitore $w$ sarà *figlio* di $w$\n",
    "- due nodi figli dello stesso genitore sono detti *fratelli*\n",
    "- un nodo che non ha figli è detto *esterno* o *foglia*; *interno*, se ha uno o più figli\n",
    "- un nodo *zio* è un nodo fratello del nodo genitore\n",
    "- un nodo connesso a tutti i nodi di livello inferiore è chiamato *antenato*; i nodi di livello inferiore connessi sono *discendenti* del nodo antenato\n",
    "- un *arco* dell'albero T è una coppia di nodi $(u, v)$ tale che $u$ è genitore di $v$ o viceversa\n",
    "- il *cammino* (path) di T è una sequenza di nodi tali che due nodi consecutivi nella sequenza formano un arco\n",
    "- un albero si dice *ordinato* se i figli di ogni nodo genitore sono ordinati\n",
    "- *profondità* è la distanza di un nodo dalla radice. La radice ha profondità 0 e, ogni nodo diverso dalla radice ha profondità pari a quella del predecessore + 1\n",
    "                                                                       \n",
    "<br><br>\n",
    "**METODI**<br>\n",
    "*root*: ritorna la radice dell'albero, None se l'albero è vuoto<br>\n",
    "*is_root*: ritorna True il nodo è la radice dell'albero<br>\n",
    "*parent*: ritorna il nodo genitore, None se si tratta della radice<br>\n",
    "*num_children*: ritorna il numero di figli<br>\n",
    "*children*: genera un'iterazione dei figli<br>\n",
    "*delete_node*: rimuove il nodo dall'albero<br>\n",
    "*get_siblings*: ritorna i fratelli del nodo (escluso il nodo selezionato)<br>\n",
    "*is_leaf*: ritorna True se la il nodo non ha figli<br>\n",
    "*len*: ritorna il numero di elementi che l'albero contiene<br>\n",
    "*is_empty*: ritorna True se l'albero è vuoto<br>\n",
    "*iter*: genera un'iterazione su tutti gli elementi dell'albero<br>\n",
    "*print_tree*: stampa a schermo l'intera struttura "
   ]
  },
  {
   "cell_type": "code",
   "execution_count": 11,
   "id": "8dace77d-8e2d-43ed-ad71-a5a3f8bc270b",
   "metadata": {},
   "outputs": [],
   "source": [
    "class TreeNode():\n",
    "    def __init__(self, data, parent=None, position=None):\n",
    "        self.data = data\n",
    "        self.parent = parent\n",
    "        self.pos = position\n",
    "        self.children = set()\n",
    "        self.siblings = set()\n",
    "    \n",
    "    def add_child(self, child):\n",
    "        self.children.add(child)\n",
    "    \n",
    "    def add_sibling(self, sibling):\n",
    "        self.siblings.add(sibling)\n",
    "    \n",
    "    def is_position_leaf(self):\n",
    "        if(self.children):\n",
    "            return(False)\n",
    "        return(True)\n",
    "\n",
    "class Tree():\n",
    "    def __init__(self):\n",
    "        self.tree = {}\n",
    "        self._root = None\n",
    "        self.__root = None # for print tree\n",
    "        self.__positions = {} # node id\n",
    "    \n",
    "    def add_node(self, position, data, parent):\n",
    "        \"\"\"\n",
    "        position: node id ---> float/int/str\n",
    "        data: element of node\n",
    "        parent: parent of node\n",
    "        \"\"\"\n",
    "        if(parent not in self.tree):\n",
    "            raise Exception(\"Parent does not exists!\")\n",
    "            return\n",
    "        \n",
    "        if(not isinstance(data, list)):\n",
    "            p = TreeNode(data=data, parent=parent, position=position)\n",
    "            self.tree[data] = p\n",
    "            self.__positions[position] = p.data\n",
    "            if(parent is not None):\n",
    "                self.tree[parent].add_child(data)\n",
    "        else:\n",
    "            for i, d in enumerate(data):\n",
    "                p = TreeNode(data=d, parent=parent, position=position[i])\n",
    "                self.tree[d] = p\n",
    "                self.__positions[position[i]] = p.data\n",
    "                if(parent is not None):\n",
    "                    self.tree[parent].add_child(d)\n",
    "        \n",
    "        if(parent is not None):\n",
    "            for sib in self.tree[parent].children:\n",
    "                self.tree[sib].siblings.update({*self.tree[parent].children})\n",
    "                self.tree[sib].siblings.remove(sib)\n",
    "                \n",
    "\n",
    "    def add_root(self, position, data):\n",
    "        self.tree[data] = TreeNode(data=data, position=position)\n",
    "        self._root = data\n",
    "        self.__root = data\n",
    "        self.__positions[position] = data\n",
    "        \n",
    "    def root(self):\n",
    "        return(self._root)\n",
    "        \n",
    "    def is_root(self, **kwargs):\n",
    "        data = self.__get_key(kwargs)\n",
    "        return(self.tree[data].parent is None)\n",
    "    \n",
    "    def element(self, position):\n",
    "        if(position not in self.__positions):\n",
    "            raise Exception(\"Position does not exists!\")\n",
    "        e = self.__positions[position]\n",
    "        return(self.tree[e])\n",
    "\n",
    "    def __get_key(self, k):\n",
    "        d = {\"data\": None, \"position\": None}\n",
    "        d |= k\n",
    "        if(d[\"data\"]):\n",
    "            data = d[\"data\"]\n",
    "        else:\n",
    "            data = self.__positions[d[\"position\"]]\n",
    "        return(data)\n",
    "    \n",
    "    def get_parent(self, **kwargs):\n",
    "        # kwargs -> guarda il metodo __get_key\n",
    "        data = self.__get_key(kwargs)\n",
    "        return(self.tree[data].parent)\n",
    "    \n",
    "    def num_children(self, **kwargs):\n",
    "        data = self.__get_key(kwargs)\n",
    "        return(len(self.tree[data].children))\n",
    "    \n",
    "    def childrens_iteration(self, **kwargs):\n",
    "        data = self.__get_key(kwargs)\n",
    "        if(self.tree[data].is_position_leaf()):\n",
    "            print(\"It is a leaf node!\")\n",
    "            return(None)\n",
    "        n = len(self.tree[data].children)\n",
    "        for i, child in enumerate(self.tree[data].children):\n",
    "            if(i < n):\n",
    "                yield child\n",
    "            else:\n",
    "                raise StopIteration\n",
    "    \n",
    "    def siblings_iteration(self, **kwargs):\n",
    "        data = self.__get_key(kwargs)\n",
    "        if(not self.tree[data].siblings):\n",
    "            print(\"No siblings!\")\n",
    "            return(None)\n",
    "        n = len(self.tree[data].siblings)\n",
    "        for i, sib in enumerate(self.tree[data].siblings):\n",
    "            if(i < n):\n",
    "                yield sib\n",
    "            else:\n",
    "                raise StopIteration\n",
    "    \n",
    "    def get_childrens(self, **kwargs):\n",
    "        data = self.__get_key(kwargs)\n",
    "        childs = list(self.tree[data].children)\n",
    "        return(childs)\n",
    "    \n",
    "    def get_siblings(self, **kwargs):\n",
    "        data = self.__get_key(kwargs)\n",
    "        siblings = list(self.tree[data].siblings)\n",
    "        return(siblings)\n",
    "    \n",
    "    def is_leaf(self, **kwargs):\n",
    "        data = self.__get_key(kwargs)\n",
    "        return(self.tree[data].is_position_leaf())\n",
    "    \n",
    "    def delete_node(self, **kwargs):\n",
    "        data = self.__get_key(kwargs)\n",
    "        if(data not in self.tree and data not in self.__positions):\n",
    "            print(\"Data or position does not exists!\")\n",
    "            return(False)\n",
    "        parent = self.tree[data].parent\n",
    "        if(parent):\n",
    "            self.tree[parent].children.remove(data)\n",
    "        pos = self.tree[data].pos\n",
    "        del self.tree[data]\n",
    "        del self.__positions[pos]\n",
    "        return(True)\n",
    "                \n",
    "    def is_empty(self):\n",
    "        return(not len(self.tree))\n",
    "    \n",
    "    def exists(self, data):\n",
    "        data = self.__get_key(kwargs)\n",
    "        exist = (data in self.tree or data in self.__positions)\n",
    "        return(exist)\n",
    "        \n",
    "    def __element_positions(self):\n",
    "        if(not self.is_empty):\n",
    "            raise Exception(\"Tree is empty!\")\n",
    "        l = len(self.__positions)\n",
    "        for i, n in enumerate(self.__positions):\n",
    "            yield n\n",
    "            if(i > l):\n",
    "                raise StopIteration\n",
    "    \n",
    "    def get_level(self, **kwargs):\n",
    "        data = self.__get_key(kwargs)\n",
    "        level = 0\n",
    "        p = self.tree[data].parent\n",
    "        while p:\n",
    "            level += 1\n",
    "            p = self.tree[p].parent\n",
    "        return(level)\n",
    "    \n",
    "    def print_tree(self):\n",
    "        r = self.__root\n",
    "        level = self.get_level(data=r)\n",
    "        space = '   ' * level\n",
    "        space = space + \"|___ \" if(self.tree[r].parent) else \"\"\n",
    "        print(f'{space}[{self.tree[r].pos}] {r}')\n",
    "        if(self.tree[r].children):\n",
    "            for c in self.tree[r].children:\n",
    "                self.__root = c\n",
    "                self.print_tree()\n",
    "        self.__root = self._root\n",
    "        return\n",
    "    \n",
    "    def __len__(self):\n",
    "        return(len(self.tree))\n",
    "    \n",
    "    def __iter__(self):\n",
    "        return(self.__element_positions())"
   ]
  },
  {
   "cell_type": "code",
   "execution_count": 12,
   "id": "36b2c1f0-36ae-4d37-a398-a70e2ed49dbf",
   "metadata": {
    "tags": []
   },
   "outputs": [
    {
     "name": "stdout",
     "output_type": "stream",
     "text": [
      "True\n",
      "Things\n",
      "3\n",
      "<generator object Tree.childrens_iteration at 0x1038c3ba0>\n",
      "True\n",
      "...delete\n",
      "{'Acer', 'Apple', 'Huawei'}\n"
     ]
    },
    {
     "data": {
      "text/plain": [
       "27"
      ]
     },
     "execution_count": 12,
     "metadata": {},
     "output_type": "execute_result"
    }
   ],
   "source": [
    "t = Tree()\n",
    "t.add_root(position=\"A\", data=\"Things\")\n",
    "t.add_node(parent=\"Things\", position=[\"B\", \"C\"], data=[\"Car\", \"Telephone\"])\n",
    "t.add_node(parent=\"Car\", position=[\"B1\", \"B2\", \"B3\"], data=[\"Ferrari\", \"Maserati\", \"Lamborghini\"])\n",
    "t.add_node(parent=\"Telephone\", position=[\"C1\", \"C2\", \"C3\"], data=[\"iPhone\", \"Nokia\", \"Samsung\"])\n",
    "t.add_node(parent=\"Car\", position=[\"B4\", \"B5\"], data=[\"Opel\", \"Wolkswagen\"])\n",
    "t.add_node(parent=\"Things\", position=[\"D\", \"E\"], data=[\"TV\", \"Computer\"])\n",
    "t.add_node(parent=\"TV\", position=[\"D1\", \"D2\", \"D3\"], data=[\"LG\", \"Sony\", \"Philips\"])\n",
    "t.add_node(parent=\"Computer\", position=[\"E1\", \"E2\", \"E3\", \"E4\"], data=[\"Apple\", \"Asus\", \"Acer\", \"Huawei\"])\n",
    "t.add_node(parent=\"Apple\", position=[\"E11\", \"E12\", \"E13\"], data=[\"MacBook Pro\", \"Mac Mini\", \"Mac Pro\"])\n",
    "t.add_node(parent=\"iPhone\", position=[\"C11\", \"C12\"], data=[\"Pro\", \"Pro Max\"])\n",
    "t.add_node(parent=\"Pro\", position=[\"C111\", \"C112\"], data=[\"2018\", \"2021\"])\n",
    "\n",
    "# print(t.tree)\n",
    "print(t.is_root(data=\"Things\"))\n",
    "print(t.get_parent(data=\"Car\"))\n",
    "print(t.num_children(data=\"Telephone\"))\n",
    "print(t.childrens_iteration(data=\"Car\"))\n",
    "print(t.is_leaf(data=\"Maserati\"))\n",
    "print(\"...delete\")\n",
    "# t.delete_node(data=\"Maserati\")\n",
    "print(t.element(position=\"E2\").siblings)\n",
    "t.is_empty()\n",
    "len(t)"
   ]
  },
  {
   "cell_type": "code",
   "execution_count": 13,
   "id": "615f0580-5338-4119-9624-6f2588d8a943",
   "metadata": {},
   "outputs": [
    {
     "name": "stdout",
     "output_type": "stream",
     "text": [
      "A non è una foglia\n",
      "B non è una foglia\n",
      "C non è una foglia\n",
      "B1 è una foglia\n",
      "B2 è una foglia\n",
      "B3 è una foglia\n",
      "C1 non è una foglia\n",
      "C2 è una foglia\n",
      "C3 è una foglia\n",
      "B4 è una foglia\n",
      "B5 è una foglia\n",
      "D non è una foglia\n",
      "E non è una foglia\n",
      "D1 è una foglia\n",
      "D2 è una foglia\n",
      "D3 è una foglia\n",
      "E1 non è una foglia\n",
      "E2 è una foglia\n",
      "E3 è una foglia\n",
      "E4 è una foglia\n",
      "E11 è una foglia\n",
      "E12 è una foglia\n",
      "E13 è una foglia\n",
      "C11 non è una foglia\n",
      "C12 è una foglia\n",
      "C111 è una foglia\n",
      "C112 è una foglia\n"
     ]
    }
   ],
   "source": [
    "position = iter(t)\n",
    "for n in position:\n",
    "    if(t.is_leaf(position=n)):\n",
    "        print(f'{n} è una foglia')\n",
    "    else:\n",
    "        print(f'{n} non è una foglia')"
   ]
  },
  {
   "cell_type": "code",
   "execution_count": 14,
   "id": "02246bd2-89c3-4f75-8867-b4e17da8d6c4",
   "metadata": {},
   "outputs": [
    {
     "name": "stdout",
     "output_type": "stream",
     "text": [
      "It is a leaf node!\n"
     ]
    },
    {
     "data": {
      "text/plain": [
       "['TV', 'Telephone', 'Computer']"
      ]
     },
     "execution_count": 14,
     "metadata": {},
     "output_type": "execute_result"
    }
   ],
   "source": [
    "childs = t.childrens_iteration(data=\"Ferrari\")\n",
    "for c in childs:\n",
    "    print(c)\n",
    "\n",
    "t.get_siblings(data=\"Car\")"
   ]
  },
  {
   "cell_type": "code",
   "execution_count": 15,
   "id": "16c47d87-3205-42a5-b32d-b7d58baf1ce3",
   "metadata": {},
   "outputs": [
    {
     "name": "stdout",
     "output_type": "stream",
     "text": [
      "[A] Things\n",
      "   |___ [D] TV\n",
      "      |___ [D3] Philips\n",
      "      |___ [D2] Sony\n",
      "      |___ [D1] LG\n",
      "   |___ [B] Car\n",
      "      |___ [B5] Wolkswagen\n",
      "      |___ [B2] Maserati\n",
      "      |___ [B1] Ferrari\n",
      "      |___ [B4] Opel\n",
      "      |___ [B3] Lamborghini\n",
      "   |___ [C] Telephone\n",
      "      |___ [C3] Samsung\n",
      "      |___ [C2] Nokia\n",
      "      |___ [C1] iPhone\n",
      "         |___ [C11] Pro\n",
      "            |___ [C112] 2021\n",
      "            |___ [C111] 2018\n",
      "         |___ [C12] Pro Max\n",
      "   |___ [E] Computer\n",
      "      |___ [E2] Asus\n",
      "      |___ [E3] Acer\n",
      "      |___ [E1] Apple\n",
      "         |___ [E13] Mac Pro\n",
      "         |___ [E11] MacBook Pro\n",
      "         |___ [E12] Mac Mini\n",
      "      |___ [E4] Huawei\n"
     ]
    }
   ],
   "source": [
    "t.print_tree()"
   ]
  },
  {
   "cell_type": "markdown",
   "id": "c665f525-4db1-4bb1-848b-ed02f7e9f335",
   "metadata": {},
   "source": [
    "### Binary Tree"
   ]
  },
  {
   "cell_type": "markdown",
   "id": "aec09913-7527-4775-9bc5-df2adc70ef1c",
   "metadata": {},
   "source": [
    "un *albero binario* è un albero ordinato in cui ogni nodo ha al massimo due nodi figli, figlio sinistro e figlio destro.<br>\n",
    "Si dice *complete* se ogni livello della struttra, eccetto l'ultimo, è completamente riempita; *full* se ogni nodo presente ha due figli.<br>\n",
    "Un albero *perfettamente bilanciato* è un albero in cui per ogni nodo il numero dei nodi del sottoalbero sinistro differisce al più di uno dal numero dei nodi del sottoalbero destro.<br>\n",
    "Un albero *bilanciato* è, invece, un albero in cui per ogni nodo le altezze dei sottoalberi sinistro e destro differiscono al massimo di uno.\n",
    "<br><br>\n",
    "**METODI**<br>\n",
    "*inorder_traversal*: visita *inordine*, ovvero: prima il sottoalbero sinistro, poi il nodo ed infine il sottoalbero destro<br>\n",
    "*preorder_traversal*: visita in *preordine*, ovvero: prima il nodo, poi i suoi sottoalberi<br>\n",
    "*postorder_traversal*: visita in *postordine*, ovvero: prima i sottoalberi, poi il nodo"
   ]
  },
  {
   "cell_type": "code",
   "execution_count": 16,
   "id": "39698ea5-eece-4a5f-b5c9-40addab204d8",
   "metadata": {},
   "outputs": [],
   "source": [
    "class BNode():\n",
    "    def __init__(self, data):\n",
    "        self.data = data\n",
    "        self.left = None\n",
    "        self.right = None"
   ]
  },
  {
   "cell_type": "code",
   "execution_count": 17,
   "id": "b811cab8-77e9-471d-b3b3-af700429ffaa",
   "metadata": {},
   "outputs": [],
   "source": [
    "class BinaryTree():\n",
    "    def __init__(self, root):\n",
    "        self.root = BNode(root)\n",
    "    \n",
    "    def __preorder_traversal(self, start, traversal):\n",
    "        # Root ---> Left ---> Right\n",
    "        if(start):\n",
    "            traversal += (str(start.data) + \" - \")\n",
    "            traversal = self.__preorder_traversal(start.left, traversal)\n",
    "            traversal = self.__preorder_traversal(start.right, traversal)\n",
    "        return(traversal)\n",
    "    \n",
    "    def __inorder_traversal(self, start, traversal):\n",
    "        # Left ---> Root ---> Right\n",
    "        if(start):\n",
    "            traversal = self.__preorder_traversal(start.left, traversal)\n",
    "            traversal += (str(start.data) + \" - \")\n",
    "            traversal = self.__preorder_traversal(start.right, traversal)\n",
    "        return(traversal)\n",
    "    \n",
    "    def __postorder_traversal(self, start, traversal):\n",
    "        # Left ---> Right ---> Root\n",
    "        if(start):\n",
    "            traversal = self.__preorder_traversal(start.left, traversal)\n",
    "            traversal = self.__preorder_traversal(start.right, traversal)\n",
    "            traversal += (str(start.data) + \" - \")\n",
    "        return(traversal)\n",
    "    \n",
    "    def print_tree(self, order):\n",
    "        if(order == \"preorder\"):\n",
    "            return(self.__preorder_traversal(self.root, \"\"))\n",
    "        elif(order == \"inorder\"):\n",
    "            return(self.__inorder_traversal(self.root, \"\"))\n",
    "        elif(order == \"postorder\"):\n",
    "            return(self.__postorder_traversal(self.root, \"\"))"
   ]
  },
  {
   "cell_type": "code",
   "execution_count": 18,
   "id": "29217472-f8c9-49c0-ac9b-0a4ad7b6d90b",
   "metadata": {},
   "outputs": [
    {
     "name": "stdout",
     "output_type": "stream",
     "text": [
      "1 - 2 - 5 - 7 - 3 - 9 - 15 - \n",
      "2 - 5 - 7 - 1 - 3 - 9 - 15 - \n",
      "2 - 5 - 7 - 3 - 9 - 15 - 1 - \n"
     ]
    }
   ],
   "source": [
    "b = BinaryTree(1)\n",
    "b.root.left = BNode(2)\n",
    "b.root.right = BNode(3)\n",
    "b.root.left.left = BNode(5)\n",
    "b.root.left.right = BNode(7)\n",
    "b.root.right.left = BNode(9)\n",
    "b.root.right.right = BNode(15)\n",
    "print(b.print_tree(order=\"preorder\"))\n",
    "print(b.print_tree(order=\"inorder\"))\n",
    "print(b.print_tree(order=\"postorder\"))"
   ]
  },
  {
   "cell_type": "markdown",
   "id": "c4b9cd10-214b-4881-bf3d-1f2a298a630c",
   "metadata": {},
   "source": [
    "#### Binary Search Tree"
   ]
  },
  {
   "cell_type": "markdown",
   "id": "ed42b621-2a83-46d4-abe8-26532fe44510",
   "metadata": {},
   "source": [
    "un *albero binario di ricerca* (BST) è un albero binario in cui, posto R radice:<br>\n",
    "- il sottoalbero di sinistra contiene solo elementi minori o uguali di R\n",
    "- il sottoalbero di destra contiene solo elementi maggiori di R\n",
    "<br><br>\n",
    "\n",
    "**METODI**<br>\n",
    "*add_node*: aggiungi nodo<br>\n",
    "*delete_node*: rimuovi un nodo<br>\n",
    "*search*: cerca un nodo<br>\n",
    "*find_min*: ricerca il valore minimo<br>\n",
    "*find_max*: ricerca il valore massimo<br>\n",
    "*size*: ritorna il numero totale di nodi presenti<br>\n",
    "*height*: ritorna il massimo delle lunghezze dei cammini dalla radice alle foglie ---> 1 + max(left_height, right_height)<br>\n",
    "*traversal*: attraversamento dell'intero albero (inorder, preorder, postorder)"
   ]
  },
  {
   "cell_type": "code",
   "execution_count": 19,
   "id": "2ef663d4-e7d2-4d92-8811-1c68471c9255",
   "metadata": {},
   "outputs": [],
   "source": [
    "class BST():\n",
    "    def __init__(self):\n",
    "        self.root = None\n",
    "    \n",
    "    def add_node(self, data):\n",
    "        if(self.root is None):\n",
    "            self.root = BNode(data)\n",
    "        else:\n",
    "            self.__add_node(data, self.root)\n",
    "    \n",
    "    def __add_node(self, data, cur_node):\n",
    "        if(data < cur_node.data):\n",
    "            if(cur_node.left):\n",
    "                self.__add_node(data, cur_node.left)\n",
    "            else:\n",
    "                cur_node.left = BNode(data)\n",
    "        elif(data > cur_node.data):\n",
    "            if(cur_node.right):\n",
    "                self.__add_node(data, cur_node.right)\n",
    "            else:\n",
    "                cur_node.right = BNode(data)\n",
    "        else:\n",
    "            print(\"Value is a tree!\")\n",
    "    \n",
    "    def find(self, data):\n",
    "        if(self.root):\n",
    "            finder = self.__find(data, self.root)\n",
    "            return(finder)\n",
    "    \n",
    "    def __find(self, data, cur_node):\n",
    "        if(data == cur_node.data):\n",
    "            return(True)\n",
    "        if(data < cur_node.data and cur_node.left):\n",
    "            return(self.__find(data, cur_node.left))\n",
    "        elif(data > cur_node.data and cur_node.right):\n",
    "            return(self.__find(data, cur_node.right))\n",
    "        return(False)\n",
    "    \n",
    "    def find_min(self):\n",
    "        return(self.__find_min(self.root))\n",
    "    \n",
    "    def __find_min(self, root):\n",
    "        if(not root.left):\n",
    "            return(root.data)\n",
    "        return(self.__find_min(root.left))\n",
    "    \n",
    "    def find_max(self):\n",
    "        return(self.__find_max(self.root))\n",
    "    \n",
    "    def __find_max(self, root):\n",
    "        if(not root.right):\n",
    "            return(root.data)\n",
    "        return(self.__find_max(root.right))\n",
    "            \n",
    "    def inorder_traversal(self):\n",
    "        if(self.root):\n",
    "            self.__inorder_traversal(self.root)\n",
    "    \n",
    "    def delete_node(self, node):\n",
    "        return(self.__delete_node(node, self.root))\n",
    "    \n",
    "    def __delete_node(self, node, root):\n",
    "        if(not root):\n",
    "            return(None)\n",
    "        if(node < root.data and root.left):\n",
    "            root.left = self.__delete_node(node, root.left)\n",
    "        elif(node > root.data and root.right):\n",
    "            root.right =  self.__delete_node(node, root.right)\n",
    "        else:\n",
    "            if(not root.left and not root.right):\n",
    "                return(None)\n",
    "            if(not root.left):\n",
    "                return(root.right)\n",
    "            if(not root.right):\n",
    "                return(root.left)\n",
    "            root.data = self.__find_min(root.right)\n",
    "            root.right = self.__delete_node(root.data, root.right)\n",
    "        return(root)\n",
    "    \n",
    "    def traversal(self, order):\n",
    "        if(order == \"preorder\"):\n",
    "            return(self.__preorder_traversal(self.root, \"\"))\n",
    "        elif(order == \"inorder\"):\n",
    "            return(self.__inorder_traversal(self.root, \"\"))\n",
    "        elif(order == \"postorder\"):\n",
    "            return(self.__postorder_traversal(self.root, \"\"))\n",
    "        \n",
    "    def __inorder_traversal(self, node, line):\n",
    "        if(node):\n",
    "            line = self.__inorder_traversal(node.left, line)\n",
    "            line += (\"[\" + str(node.data) + \"]\" + \"···\")\n",
    "            line = self.__inorder_traversal(node.right, line)\n",
    "        return(line)\n",
    "    \n",
    "    def __preorder_traversal(self, node, line):\n",
    "        if(node):\n",
    "            line += (\"[\" + str(node.data) + \"]\" + \"···\")\n",
    "            line = self.__preorder_traversal(node.left, line)\n",
    "            line = self.__preorder_traversal(node.right, line)\n",
    "        return(line)\n",
    "    \n",
    "    def __postorder_traversal(self, node, line):\n",
    "        if(node is not None):\n",
    "            line = self.__postorder_traversal(node.left, line)\n",
    "            line = self.__postorder_traversal(node.right, line)\n",
    "            line += (\"[\" + str(node.data) + \"]\" + \"···\")\n",
    "        return(line)\n",
    "    \n",
    "    def height(self, node):\n",
    "        if(node is None):\n",
    "            return(-1)\n",
    "        left = self.height(node.left)\n",
    "        right = self.height(node.right)\n",
    "        return(1 + max(left, right))\n",
    "    \n",
    "    def size_recursive(self, node):\n",
    "        if(node is None):\n",
    "            return(0)\n",
    "        return(1 + self.size_recursive(node.left) + self.size_recursive(node.right))\n",
    "    \n",
    "    def size_iterative(self):\n",
    "        if(self.root is None):\n",
    "            return(0)\n",
    "        stack = []\n",
    "        stack.append(self.root)\n",
    "        size = 1\n",
    "        while stack:\n",
    "            q = stack.pop()\n",
    "            if(q.left):\n",
    "                stack.append(q.left)\n",
    "                size += 1\n",
    "            if(q.right):\n",
    "                stack.append(q.right)\n",
    "                size += 1\n",
    "        return(size)\n",
    "            "
   ]
  },
  {
   "cell_type": "code",
   "execution_count": 20,
   "id": "77e407af-96ea-419b-b28a-994d347fadf0",
   "metadata": {},
   "outputs": [
    {
     "name": "stdout",
     "output_type": "stream",
     "text": [
      "inorder:  [3]···[5]···[7]···[25]···[36]···[70]···[100]···\n",
      "preorder:  [25]···[5]···[3]···[7]···[70]···[36]···[100]···\n",
      "postorder:  [3]···[7]···[5]···[36]···[100]···[70]···[25]···\n",
      "min value is:  3\n",
      "max value is:  100\n",
      "2\n",
      "7\n",
      "7\n"
     ]
    }
   ],
   "source": [
    "bc = BST()\n",
    "bc.add_node(15)\n",
    "bc.add_node(25)\n",
    "bc.add_node(5)\n",
    "bc.add_node(7)\n",
    "bc.add_node(70)\n",
    "bc.find(25)\n",
    "bc.add_node(36)\n",
    "bc.add_node(100)\n",
    "bc.add_node(3)\n",
    "bc.delete_node(15)\n",
    "io = bc.traversal(order=\"inorder\")\n",
    "pr = bc.traversal(order=\"preorder\")\n",
    "po = bc.traversal(order=\"postorder\")\n",
    "print(\"inorder: \", io)\n",
    "print(\"preorder: \", pr)\n",
    "print(\"postorder: \", po)\n",
    "print(\"min value is: \", bc.find_min())\n",
    "print(\"max value is: \", bc.find_max())\n",
    "print(bc.height(bc.root))\n",
    "print(bc.size_recursive(bc.root))\n",
    "print(bc.size_iterative())"
   ]
  },
  {
   "cell_type": "markdown",
   "id": "c60e543c-6850-4c0e-83f2-8d07bc9ede9d",
   "metadata": {},
   "source": [
    "### Graphs"
   ]
  },
  {
   "cell_type": "markdown",
   "id": "ea0446b2-639b-4e20-9da4-5bbb63956fab",
   "metadata": {},
   "source": [
    "Un *grafo* $G$ è un insieme di oggetti che prendono il nome di *vertici* e, di coppie di vertici chiamati *archi*. Un arco $(u, v)$ si dice *diretto* $u \\rightarrow v$ se la coppia è ordinata; *indiretto* se non ordinata ($u$ non precede $v$).<br><br>\n",
    "$G = (V, E) \\rightarrow V = vertici \\; E = archi$<br>\n",
    "$V = \\{ 1, 2, 3, 4, 5 \\} $<br>\n",
    "$E = \\{ (1, 2), (2, 3), (3, 4), (4, 5) \\}$<br>\n",
    "$|v| = ordine\\;del\\;grafo$<br>\n",
    "$N(v) = vicini\\;di\\;un\\;certo\\;nodo$<br>\n",
    "$d(v) = |N(v)| = grado\\;del\\;vicinato\\;(numero\\;dei\\;vicini)$\n",
    "\n",
    "\n",
    "**Tipologie di grafo**<br>\n",
    "- grafo semplice\n",
    "- grafo orientato \n",
    "- grafo pesato (associa ad ogni arco un peso)\n",
    "- grafo pesato sui vertici (associa un peso ad ogni vertice e non agli archi)\n",
    "<br><br>"
   ]
  },
  {
   "cell_type": "code",
   "execution_count": 21,
   "id": "721dc25e-e317-4589-a42c-c6d2619bd38f",
   "metadata": {},
   "outputs": [],
   "source": [
    "V = [0, 1, 2, 3, 4, 5] # vertici, non pesati\n",
    "Vw = [(1, 1.2), (2, 5.7), (5, 150), (4, 7)] # vertici, pesati\n",
    "E = [(1, 2), (2, 3), (3, 4), (4, 5), (5, 1)] # archi, non pesati\n",
    "Ew = [(1, 2, 10), (2, 3, 3.6), (3, 4, 90), (4, 5, 1.5), (5, 1, 100)] # archi, pesati"
   ]
  },
  {
   "cell_type": "markdown",
   "id": "0793bdab-4c0c-4437-857f-4ec7b80e5d97",
   "metadata": {},
   "source": [
    "#### Rappresentazione dei grafi"
   ]
  },
  {
   "cell_type": "markdown",
   "id": "ef6c72c9-979b-4aca-86f4-a6a77267f74a",
   "metadata": {},
   "source": [
    "sono due i modi principali di rappresentazione di un grafo:<br>\n",
    "1. matrici di adiacenza\n",
    "2. liste di adiacenza"
   ]
  },
  {
   "cell_type": "markdown",
   "id": "a4b7def8-f686-402e-acd8-add675695ccb",
   "metadata": {},
   "source": [
    "**1. MATRICI DI ADIACENZA**\n",
    "\n",
    "matrice $n\\times n \\;con\\;n = |v|$<br>\n",
    "$row \\rightarrow nodi\\;di\\;partenza$<br>\n",
    "$col \\rightarrow nodi\\;di\\;arrivo$<br>"
   ]
  },
  {
   "cell_type": "code",
   "execution_count": 22,
   "id": "168ecdc7-43aa-4fd1-87df-2992be3cc86e",
   "metadata": {},
   "outputs": [],
   "source": [
    "def adj_matrix(edges, order, orientato=False):\n",
    "    adj = [[0 for _ in range(order)] for _ in range(order)] # space O(n^2)\n",
    "\n",
    "    for arco in edges:\n",
    "        row = arco[0]\n",
    "        col = arco[1]\n",
    "        \n",
    "        adj[row][col] = 1\n",
    "        \n",
    "        if(not orientato):\n",
    "            adj[col][row] = 1\n",
    "    \n",
    "    return(adj)\n",
    "\n",
    "# metodo non efficiente, solo didattica!\n",
    "def weights(weights, order, where=\"edges\", orientato=False):\n",
    "    if(where == \"edges\"):\n",
    "        w = [[0 for _ in range(order)] for _ in range(order)]\n",
    "        for arco in weights:\n",
    "            row = arco[0]\n",
    "            col = arco[1]\n",
    "            \n",
    "            w[row][col] = arco[2]\n",
    "            \n",
    "            if(not orientato):\n",
    "                w[col][row] = arco[2]\n",
    "            \n",
    "    elif(where == \"vertices\"):\n",
    "        w = [0] * order\n",
    "        for vertice in weights:\n",
    "            w[vertice[0]] = vertice[1]\n",
    "    else:\n",
    "        raise Exception(\"Tipo di peso non permesso: puoi selezionare tra: edges | vertices\")\n",
    "        return\n",
    "    \n",
    "    return(w)"
   ]
  },
  {
   "cell_type": "code",
   "execution_count": 23,
   "id": "551fd995-f85a-4b33-9aa1-c133027c6d9c",
   "metadata": {},
   "outputs": [
    {
     "name": "stdout",
     "output_type": "stream",
     "text": [
      "matrice di adiacenza grafo non orientato\n",
      "[0, 0, 0, 0, 0, 0]\n",
      "[0, 0, 1, 0, 0, 1]\n",
      "[0, 1, 0, 1, 0, 0]\n",
      "[0, 0, 1, 0, 1, 0]\n",
      "[0, 0, 0, 1, 0, 1]\n",
      "[0, 1, 0, 0, 1, 0]\n",
      "\n",
      "matrice di adiacenza grafo orientato\n",
      "[0, 0, 0, 0, 0, 0]\n",
      "[0, 0, 1, 0, 0, 0]\n",
      "[0, 0, 0, 1, 0, 0]\n",
      "[0, 0, 0, 0, 1, 0]\n",
      "[0, 0, 0, 0, 0, 1]\n",
      "[0, 1, 0, 0, 0, 0]\n",
      "\n",
      "matrice dei pesi associati agli archi\n",
      "[0, 0, 0, 0, 0, 0]\n",
      "[0, 0, 10, 0, 0, 100]\n",
      "[0, 10, 0, 3.6, 0, 0]\n",
      "[0, 0, 3.6, 0, 90, 0]\n",
      "[0, 0, 0, 90, 0, 1.5]\n",
      "[0, 100, 0, 0, 1.5, 0]\n",
      "\n",
      "vettore dei pesi associato ai vertici/nodi\n",
      "peso associato al vertice: 0 = 0\n",
      "peso associato al vertice: 1 = 1.2\n",
      "peso associato al vertice: 2 = 5.7\n",
      "peso associato al vertice: 3 = 0\n",
      "peso associato al vertice: 4 = 7\n",
      "peso associato al vertice: 5 = 150\n",
      "\n"
     ]
    }
   ],
   "source": [
    "\"\"\"\n",
    "indichiamo con \"1\" il collegamento; \"0\" in tutti gli altri casi\n",
    "\"\"\"\n",
    "\n",
    "order = len(V)\n",
    "\n",
    "adj_not_oriented = adj_matrix(edges=E, order=order, orientato=False) # non orientato\n",
    "adj_oriented = adj_matrix(edges=E, order=order, orientato=True) # orientato\n",
    "\n",
    "print(\"matrice di adiacenza grafo non orientato\")\n",
    "for r in adj_not_oriented:\n",
    "    print(r, end=\"\\n\")\n",
    "print()\n",
    "\n",
    "print(\"matrice di adiacenza grafo orientato\")\n",
    "for r in adj_oriented:\n",
    "    print(r, end=\"\\n\")\n",
    "print()\n",
    "\n",
    "\n",
    "\"\"\"\n",
    "per un grafo pesato, si aggiunge una matrice che sostituisce al collegamento (\"1\") il valore del peso associato \n",
    "\"\"\"\n",
    "\n",
    "print(\"matrice dei pesi associati agli archi\")\n",
    "edg_weights = weights(weights=Ew, order=order, where=\"edges\")\n",
    "\n",
    "for r in edg_weights:\n",
    "    print(r, end=\"\\n\")\n",
    "print()\n",
    "\n",
    "\"\"\"\n",
    "per un grafo pesato sui vertici, alla matrice di adiacenza si associa un vettore a rappresentare i vertici e, lo si riempe con il valore del peso associato\n",
    "\"\"\"\n",
    "\n",
    "vtx_weights = weights(weights=Vw, order=order, where=\"vertices\")\n",
    "\n",
    "print(\"vettore dei pesi associato ai vertici/nodi\")\n",
    "for v, i in enumerate(vtx_weights):\n",
    "    print(\"peso associato al vertice: {} = {}\".format(v, i), end=\"\\n\")\n",
    "print()"
   ]
  },
  {
   "cell_type": "markdown",
   "id": "8edfa34b-9d63-4db1-9bd3-9297c3779160",
   "metadata": {},
   "source": [
    "**2. LISTE DI ADIACENZA**\n",
    "\n",
    "\n",
    "semplicemente, memorizziamo per ogni nodo la lista dei sui vicini. Ciò di permette di passare di passare da $O(n^{2})$ ad $O(n + m)$. Sottolineamo che, nel peggiore dei casi, grafo denso, la lista occupa tanto spazio quanto la matrice di adiacenza!)<br>"
   ]
  },
  {
   "cell_type": "code",
   "execution_count": 24,
   "id": "2d55d711-9810-4741-b607-bf9c91b2d280",
   "metadata": {},
   "outputs": [],
   "source": [
    "def adj_list(edges, order, orientato=False, weights=False):\n",
    "    adj = {}\n",
    "    for arco in edges:\n",
    "        n = arco[0]\n",
    "        m = arco[1]\n",
    "        if(n in adj):\n",
    "            value1 = m if(not weights) else [m, arco[2]]\n",
    "            adj[n].append(value1)\n",
    "        else:\n",
    "            value2 = [m] if(not weights) else [[m, arco[2]]]\n",
    "            adj[n] = value2\n",
    "        \n",
    "        if(not orientato):\n",
    "            if(m in adj):\n",
    "                value1 = n if(not weights) else [n, arco[2]]\n",
    "                adj[m].append(value)\n",
    "            else:\n",
    "                value2 = [n] if(not weights) else [[n, arco[2]]]\n",
    "                adj[m] = value\n",
    "    return(adj)"
   ]
  },
  {
   "cell_type": "code",
   "execution_count": 25,
   "id": "d9d18d86-e41f-46d7-8a7a-0e64d77f1dbd",
   "metadata": {},
   "outputs": [
    {
     "data": {
      "text/plain": [
       "{0: [[3, 4]],\n",
       " 1: [[2, 10], [3, 100], [5, 32]],\n",
       " 2: [[3, 34]],\n",
       " 3: [[4, 0.5]],\n",
       " 4: [[5, 7]],\n",
       " 5: [[1, 12]]}"
      ]
     },
     "execution_count": 25,
     "metadata": {},
     "output_type": "execute_result"
    }
   ],
   "source": [
    "EE = [(0, 3, 4), (1, 2, 10), (1, 3, 100), (1, 5, 32), (2, 3, 34), (3, 4, 0.5), (4, 5, 7), (5, 1, 12)] # archi, non pesati\n",
    "adjlist = adj_list(edges=EE, order=order, orientato=True, weights=True)\n",
    "adjlist"
   ]
  },
  {
   "cell_type": "markdown",
   "id": "093540bc-b562-46b2-8035-0d34adc1b4c7",
   "metadata": {},
   "source": [
    "#### CLASSE GRAPH"
   ]
  },
  {
   "cell_type": "code",
   "execution_count": 26,
   "id": "b3252bc9-7d41-4097-9bca-f17721b694df",
   "metadata": {},
   "outputs": [],
   "source": [
    "class Graph():\n",
    "    def __init__(self, orientato: bool = False) -> None:\n",
    "        self.orientato = orientato\n",
    "        self.graph = {}\n",
    "    \n",
    "    def add_vertex(self, vertex) -> None:\n",
    "        if(not isinstance(vertex, list)):\n",
    "            vertex = [vertex]\n",
    "        for v in vertex:\n",
    "            self.graph[v] = []\n",
    "    \n",
    "    def add_edges(self, edges: [list, tuple]) -> None:\n",
    "        if(not isinstance(edges, list)):\n",
    "            edges = [edges]\n",
    "        \n",
    "        l = len(edges[0])\n",
    "           \n",
    "        for e in edges:\n",
    "            n1, n2 = e[0], e[1]\n",
    "            value1 = n2 if(l < 3) else (n2, e[2])\n",
    "            if(n1 in self.graph):\n",
    "                self.graph[n1].append(value1)\n",
    "            else:\n",
    "                self.graph[n1] = (value1)\n",
    "\n",
    "            if(not self.orientato):\n",
    "                value2 = n1 if(l < 3) else (n1, e[2])\n",
    "                if(n2 in self.graph):\n",
    "                    self.graph[n2].append(value2)\n",
    "                else:\n",
    "                    self.graph[n2] = (value2)\n",
    "    \n",
    "    def isolated_vertex(self) -> list:\n",
    "        isolated = []\n",
    "        for key in self.graph:\n",
    "            if(not self.graph[key]):\n",
    "                isolated.append(key)\n",
    "        return(isolated)\n",
    "    \n",
    "    def vertex_count(self) -> int:\n",
    "        return(len(self.graph))\n",
    "    \n",
    "    def neighbors_count(self, vertex) -> int:\n",
    "        return(len(self.graph[vertex]))\n",
    "    \n",
    "    def remove_vertex(self, vertex) -> None:\n",
    "        if(vertex not in self.graph):\n",
    "            raise Exception(\"Vertex does not exist!\")\n",
    "            return\n",
    "        \n",
    "        del self.graph[vertex]\n",
    "        for key in self.graph:\n",
    "            filt = list(filter(lambda x: x[0] != vertex, self.graph[key]))\n",
    "            self.graph[key] = filt\n",
    "                    \n",
    "    def remove_edges(self, edge: tuple) -> None:\n",
    "        start, end = edge[0], edge[1]\n",
    "        if(start not in self.graph):\n",
    "            raise Exception(\"Vertex does not exist!\")\n",
    "            return\n",
    "        self.graph[start] = list(filter(lambda x: x[0] != end, self.graph[start]))\n",
    "        if(not self.orientato):\n",
    "            if(end not in self.graph):\n",
    "                raise Exception(\"Vertex does not exist!\")\n",
    "                return\n",
    "            self.graph[end] = list(filter(lambda x: x[0] != start, self.graph[end]))\n",
    "        \n",
    "    \n",
    "    def __get_all_paths(self, start, end, path=[]):\n",
    "        path = path + [start]\n",
    "        if(start == end): # caso base: arrivati a destinazione!\n",
    "            return([path])\n",
    "        \n",
    "        p = []\n",
    "        for nodo in self.graph[start]:\n",
    "            if(nodo[0] not in path):\n",
    "                np = self.__get_all_paths(nodo[0], end, path)\n",
    "                for n in np:\n",
    "                    p.append(n)\n",
    "        return(p)\n",
    "    \n",
    "    def get_all_paths(self, start, end) -> list:\n",
    "        if(start not in self.graph):\n",
    "            raise Exception(\"Vertex does not exist!\")\n",
    "            return\n",
    "            \n",
    "        paths = self.__get_all_paths(start, end)\n",
    "        return(paths)\n",
    "    \n",
    "    def get_shortest_path(self, start, end) -> list:\n",
    "        paths = self.get_all_paths(start, end)\n",
    "        if(len(paths) == 1):\n",
    "            return(paths[0])\n",
    "        \n",
    "        short = paths[0]\n",
    "        for i in range(1, len(paths)):\n",
    "            if(len(paths[i]) < len(short)):\n",
    "                short = paths[i]\n",
    "        \n",
    "        return(short)\n"
   ]
  },
  {
   "cell_type": "code",
   "execution_count": 27,
   "id": "e54dfd24-d241-4241-9fdf-2035b2c3d0ba",
   "metadata": {},
   "outputs": [],
   "source": [
    "grafo = Graph(orientato=False)\n",
    "grafo.add_vertex([\"Roma\", \"Milano\", \"Napoli\", \"Torino\"])\n",
    "grafo.add_edges([(\"Roma\", \"Milano\", 50), (\"Roma\", \"Torino\", 45), (\"Torino\", \"Milano\", 30), (\"Milano\", \"Napoli\", 100)])\n",
    "grafo.add_vertex(\"Genova\")\n",
    "grafo.add_edges((\"Roma\", \"Genova\", 75))"
   ]
  },
  {
   "cell_type": "code",
   "execution_count": 28,
   "id": "5d0b5974-6975-4fd6-997c-cc1c7b39fbc1",
   "metadata": {},
   "outputs": [
    {
     "data": {
      "text/plain": [
       "{'Roma': [('Milano', 50), ('Torino', 45), ('Genova', 75)],\n",
       " 'Milano': [('Roma', 50), ('Torino', 30), ('Napoli', 100)],\n",
       " 'Napoli': [('Milano', 100)],\n",
       " 'Torino': [('Roma', 45), ('Milano', 30)],\n",
       " 'Genova': [('Roma', 75)]}"
      ]
     },
     "execution_count": 28,
     "metadata": {},
     "output_type": "execute_result"
    }
   ],
   "source": [
    "grafo.graph"
   ]
  },
  {
   "cell_type": "code",
   "execution_count": 29,
   "id": "568015b0-21ee-4ca6-8492-b9bd4bd5015c",
   "metadata": {},
   "outputs": [
    {
     "data": {
      "text/plain": [
       "[]"
      ]
     },
     "execution_count": 29,
     "metadata": {},
     "output_type": "execute_result"
    }
   ],
   "source": [
    "grafo.isolated_vertex()"
   ]
  },
  {
   "cell_type": "code",
   "execution_count": 30,
   "id": "f7e4fb3a-d30d-480d-afe7-75ae08483f77",
   "metadata": {},
   "outputs": [
    {
     "data": {
      "text/plain": [
       "5"
      ]
     },
     "execution_count": 30,
     "metadata": {},
     "output_type": "execute_result"
    }
   ],
   "source": [
    "grafo.vertex_count()"
   ]
  },
  {
   "cell_type": "code",
   "execution_count": 31,
   "id": "c9fb6612-f248-4fa1-90d4-b873552fa219",
   "metadata": {},
   "outputs": [
    {
     "data": {
      "text/plain": [
       "3"
      ]
     },
     "execution_count": 31,
     "metadata": {},
     "output_type": "execute_result"
    }
   ],
   "source": [
    "grafo.neighbors_count(vertex=\"Roma\")"
   ]
  },
  {
   "cell_type": "code",
   "execution_count": 32,
   "id": "b3bf9402-8534-4191-921c-80e573c0028d",
   "metadata": {},
   "outputs": [
    {
     "data": {
      "text/plain": [
       "[['Roma', 'Milano', 'Torino'], ['Roma', 'Torino']]"
      ]
     },
     "execution_count": 32,
     "metadata": {},
     "output_type": "execute_result"
    }
   ],
   "source": [
    "paths = grafo.get_all_paths(start=\"Roma\", end=\"Torino\")\n",
    "paths"
   ]
  },
  {
   "cell_type": "code",
   "execution_count": 33,
   "id": "eda61d78-02fb-456c-afd1-589ed69455f1",
   "metadata": {},
   "outputs": [
    {
     "data": {
      "text/plain": [
       "['Roma', 'Torino']"
      ]
     },
     "execution_count": 33,
     "metadata": {},
     "output_type": "execute_result"
    }
   ],
   "source": [
    "shortest_path = grafo.get_shortest_path(start=\"Roma\", end=\"Torino\")\n",
    "shortest_path"
   ]
  },
  {
   "cell_type": "code",
   "execution_count": 34,
   "id": "b2a887a6-9b67-4516-90b6-bf6e7adbc3c4",
   "metadata": {},
   "outputs": [
    {
     "data": {
      "text/plain": [
       "{'Milano': [('Torino', 30), ('Napoli', 100)],\n",
       " 'Napoli': [('Milano', 100)],\n",
       " 'Torino': [('Milano', 30)],\n",
       " 'Genova': []}"
      ]
     },
     "execution_count": 34,
     "metadata": {},
     "output_type": "execute_result"
    }
   ],
   "source": [
    "grafo.remove_vertex(vertex=\"Roma\")\n",
    "grafo.graph"
   ]
  },
  {
   "cell_type": "code",
   "execution_count": 35,
   "id": "085a0328-ab1d-40af-8b05-324e6c8861a4",
   "metadata": {},
   "outputs": [
    {
     "data": {
      "text/plain": [
       "{'Milano': [('Torino', 30)],\n",
       " 'Napoli': [],\n",
       " 'Torino': [('Milano', 30)],\n",
       " 'Genova': []}"
      ]
     },
     "execution_count": 35,
     "metadata": {},
     "output_type": "execute_result"
    }
   ],
   "source": [
    "grafo.remove_edges((\"Milano\", \"Napoli\"))\n",
    "grafo.graph"
   ]
  },
  {
   "cell_type": "markdown",
   "id": "e064ba5e-1e50-4f81-a79c-7b79f21a59b2",
   "metadata": {},
   "source": [
    "#### Attraversamento di un grafo: Depth-First Search (DFS) | Breadth-First Search (BFS)"
   ]
  },
  {
   "cell_type": "markdown",
   "id": "763c260f-4fc8-4092-9fd7-0718cf0f9506",
   "metadata": {},
   "source": [
    "*Attraversare* un grafo significa esplorare un grafo esaminando ogni suo vertice e arco. Una procedura efficiente solo e soltanto se il tempo di attraversamento è proporzionale al numero dei suoi vertici e archi."
   ]
  },
  {
   "cell_type": "markdown",
   "id": "0ad46b19-e658-4758-8209-d0dcfdf2741d",
   "metadata": {},
   "source": [
    "***depth-first search*** -> **Ricerca in profondità**\n",
    "\n",
    "è un algoritmo di ricerca ricorsivo che permette di esplorare un grafo (o un albero) andando, ad ogni istante dell'esecuzione, il più possibile in profondità fino a quando non è più possibile esplorare altri nodi: \n",
    "- la visita parte da uno specifico vertice $s$\n",
    "- continua seguendo uno degli archi uscenti da $s$\n",
    "- supponiamo che l'arco porti al vertice $v$. Se $v$ ha un arco uscente ancora non esplorato $c$, allora la visita continuerà su $c$\n",
    "- ...e, così via fino a quando la visita non arriva in un nodo del quale sono stati esplorati tutti i suoi vicini\n",
    "- Supponiamo ora che tutti i vicini di $c$ siano stati già esplorati. Cosa succede a questo punto?\n",
    "- semplicemente, la visita torna indietro verso un vertice non ancora esplorato (*backtrack*)"
   ]
  },
  {
   "cell_type": "code",
   "execution_count": 45,
   "id": "c2176d35-e5f8-49d5-bbab-77d9c0cbe53f",
   "metadata": {},
   "outputs": [],
   "source": [
    "class DFS():\n",
    "    def __init__(self, graph: dict):\n",
    "        \"\"\"\n",
    "        graph: dict froma Graph class!\n",
    "        \"\"\"\n",
    "        self.__g = graph\n",
    "        self.visited = {v: False for v in self.__g}\n",
    "        self.__s = \"\"\n",
    "    \n",
    "    def visita(self, start) -> None:\n",
    "        self.visited[start] = True\n",
    "        self.__s += f'{start} -> '\n",
    "        for neigh in self.__g[start]:\n",
    "            if(not self.visited[neigh[0]]): # se il nodo non è visitato allora visitalo!\n",
    "                self.visita(neigh[0]) # recursion...\n",
    "    \n",
    "    def show_visit(self):\n",
    "        print(self.__s)"
   ]
  },
  {
   "cell_type": "code",
   "execution_count": 46,
   "id": "256646cc-3cc4-4fb9-b5e4-86909add0db4",
   "metadata": {},
   "outputs": [],
   "source": [
    "g2 = Graph(orientato=False)\n",
    "g2.add_vertex([\"Roma\", \"Milano\", \"Napoli\", \"Torino\"])\n",
    "g2.add_edges([(\"Roma\", \"Milano\", 50), (\"Roma\", \"Torino\", 45), (\"Torino\", \"Milano\", 30), (\"Milano\", \"Napoli\", 100)])\n",
    "g2.add_vertex(\"Genova\")\n",
    "g2.add_edges((\"Roma\", \"Genova\", 75))"
   ]
  },
  {
   "cell_type": "code",
   "execution_count": 47,
   "id": "88e19c24-650b-4bd5-8ec1-8687858d330a",
   "metadata": {},
   "outputs": [],
   "source": [
    "dfs = DFS(graph=g2.graph)\n",
    "dfs.visita(start=\"Roma\")"
   ]
  },
  {
   "cell_type": "code",
   "execution_count": 48,
   "id": "ea385fba-a891-4bc2-a13f-ea4df140c840",
   "metadata": {},
   "outputs": [
    {
     "data": {
      "text/plain": [
       "{'Roma': True, 'Milano': True, 'Napoli': True, 'Torino': True, 'Genova': True}"
      ]
     },
     "execution_count": 48,
     "metadata": {},
     "output_type": "execute_result"
    }
   ],
   "source": [
    "dfs.visited"
   ]
  },
  {
   "cell_type": "code",
   "execution_count": 49,
   "id": "b98c2f6d-a4fb-4af9-8271-f738abb59396",
   "metadata": {},
   "outputs": [
    {
     "name": "stdout",
     "output_type": "stream",
     "text": [
      "Roma -> Milano -> Torino -> Napoli -> Genova -> \n"
     ]
    }
   ],
   "source": [
    "dfs.show_visit()"
   ]
  },
  {
   "cell_type": "markdown",
   "id": "b63e5f09-7f5e-4afa-8a56-96fd3212ade8",
   "metadata": {},
   "source": [
    "***breadth-first search*** -> **Ricerca in ampiezza**\n",
    "\n",
    "anche in questo caso, scopo dell'algoritmo è esaminare sistematicamente tutti i nodi presenti nel grafo a partire da un nodo detto *sorgente*\n",
    "\n",
    "1. si comincia creando uno stack s vuoto\n",
    "2. s.push(sorgente)\n",
    "3. si comincia ad iterare:\n",
    "    - nodo = s.pop()\n",
    "    - si esamina nodo\n",
    "    - se nodo è il vertice cercato, si ritorna il nodo e la ricerca viene interrotta\n",
    "    - se nodo non è il nodo cercato, si mettono in coda tutti i successori del vertice che si sta analizzando\n",
    "    - s.push(N(nodo))\n",
    "4. se s è vuoto, allora tutti i vertici sono stati visitati e, dunque l'elemento non trovato... la ricerca si interrompe\n",
    "5. se la coda non è vuota... si ritorna al punto 2"
   ]
  },
  {
   "cell_type": "code",
   "execution_count": 50,
   "id": "cceec21a-c1f3-414d-a48a-a834b82d347c",
   "metadata": {},
   "outputs": [],
   "source": [
    "class BFS():\n",
    "    def __init__(self, graph: dict):\n",
    "        \"\"\"\n",
    "        graph: dict froma Graph class!\n",
    "        \"\"\"\n",
    "        self.__g = graph\n",
    "        self.__s = Pila()\n",
    "        self.visited = {v: False for v in self.__g}\n",
    "        self.__path = \"\"\n",
    "\n",
    "    def search(self, start, target):\n",
    "        self.__s.push(start)\n",
    "        while not self.__s.is_empty():\n",
    "            n = self.__s.pop()\n",
    "            self.__path += f'{n} -> '\n",
    "            if(n == target):\n",
    "                self.visited[n] = True\n",
    "                return(True)\n",
    "            if(self.visited[n]):\n",
    "                continue\n",
    "            self.visited[n] = True\n",
    "            for neigh in self.__g[n]:\n",
    "                if(not self.visited[neigh[0]]):\n",
    "                    self.__s.push(neigh[0])\n",
    "                    \n",
    "        self.__path = \"...target not found!\"\n",
    "        return(False)\n",
    "    \n",
    "    def show_research(self):\n",
    "        return(self.__path)               "
   ]
  },
  {
   "cell_type": "code",
   "execution_count": 51,
   "id": "05668dff-a1c9-4c63-a814-61920b326f8e",
   "metadata": {},
   "outputs": [
    {
     "data": {
      "text/plain": [
       "True"
      ]
     },
     "execution_count": 51,
     "metadata": {},
     "output_type": "execute_result"
    }
   ],
   "source": [
    "bfs = BFS(graph=g2.graph)\n",
    "bfs.search(start=\"Roma\", target=\"Genova\")"
   ]
  },
  {
   "cell_type": "code",
   "execution_count": 52,
   "id": "27069130-432b-49cb-bc0f-3a3f538bb71b",
   "metadata": {},
   "outputs": [
    {
     "data": {
      "text/plain": [
       "{'Roma': True,\n",
       " 'Milano': False,\n",
       " 'Napoli': False,\n",
       " 'Torino': False,\n",
       " 'Genova': True}"
      ]
     },
     "execution_count": 52,
     "metadata": {},
     "output_type": "execute_result"
    }
   ],
   "source": [
    "bfs.visited"
   ]
  },
  {
   "cell_type": "code",
   "execution_count": 53,
   "id": "fc636057-1b2c-496d-91af-38616536917b",
   "metadata": {},
   "outputs": [
    {
     "data": {
      "text/plain": [
       "'Roma -> Genova -> '"
      ]
     },
     "execution_count": 53,
     "metadata": {},
     "output_type": "execute_result"
    }
   ],
   "source": [
    "bfs.show_research()"
   ]
  }
 ],
 "metadata": {
  "kernelspec": {
   "display_name": "Python 3",
   "language": "python",
   "name": "python3"
  },
  "language_info": {
   "codemirror_mode": {
    "name": "ipython",
    "version": 3
   },
   "file_extension": ".py",
   "mimetype": "text/x-python",
   "name": "python",
   "nbconvert_exporter": "python",
   "pygments_lexer": "ipython3",
   "version": "3.9.4"
  }
 },
 "nbformat": 4,
 "nbformat_minor": 5
}
